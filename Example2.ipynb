{
 "cells": [
  {
   "cell_type": "code",
   "execution_count": 1,
   "metadata": {},
   "outputs": [],
   "source": [
    "import itertools \n",
    "import pandas as pd \n",
    "import numpy as np \n",
    "import matplotlib.pyplot as plt \n",
    "from sklearn.metrics import confusion_matrix, precision_score, recall_score\n",
    "from sklearn import ensemble"
   ]
  },
  {
   "cell_type": "code",
   "execution_count": 2,
   "metadata": {},
   "outputs": [],
   "source": [
    "# get the data \n",
    "df = pd.read_csv(('https://raw.githubusercontent.com/Thinkful-Ed/data-201-resources/'\n",
    "'master/ESS_practice_data/ESSdata_Thinkful.csv')).dropna()"
   ]
  },
  {
   "cell_type": "code",
   "execution_count": 3,
   "metadata": {},
   "outputs": [],
   "source": [
    "# define the target and features \n",
    "y = df['partner'] - 1 \n",
    "X = df.loc[:, ~df.columns.isin(['partner', 'cntry', 'idno'])]"
   ]
  },
  {
   "cell_type": "code",
   "execution_count": 4,
   "metadata": {},
   "outputs": [],
   "source": [
    "# encode the categorical variable\n",
    "X = pd.concat([X, pd.get_dummies(df['cntry'])], axis=1)"
   ]
  },
  {
   "cell_type": "code",
   "execution_count": 5,
   "metadata": {},
   "outputs": [],
   "source": [
    "#create the training and test sets \n",
    "offset = int(X.shape[0] * 0.8)\n",
    "\n",
    "#put 80% of the data into the training set \n",
    "X_train, y_train = X[:offset], y[:offset]\n",
    "\n",
    "# put 20% of the data into the test set \n",
    "X_test, y_test = X[offset:], y[offset:]"
   ]
  },
  {
   "cell_type": "code",
   "execution_count": 6,
   "metadata": {},
   "outputs": [],
   "source": [
    "# now we have a classification problem to work on, \n",
    "# model has to use either deviance or exponential options for the loss function\n",
    "\n",
    "# 500 iterations, with 2 deep trees and deviance loss function\n",
    "\n",
    "params = {'n_estimators':500, 'max_depth':2, 'loss': 'deviance'}"
   ]
  },
  {
   "cell_type": "code",
   "execution_count": 7,
   "metadata": {},
   "outputs": [],
   "source": [
    "# create and fit the model \n",
    "\n",
    "clf = ensemble.GradientBoostingClassifier(**params)    # thats awesome ... \n",
    "\n",
    "clf.fit(X_train, y_train)\n",
    "\n",
    "predict_train = clf.predict(X_train)\n",
    "predict_test = clf.predict(X_test)"
   ]
  },
  {
   "cell_type": "code",
   "execution_count": 8,
   "metadata": {},
   "outputs": [],
   "source": [
    "def plot_confusion_matrix(cm, classes,\n",
    "                          normalize=False,\n",
    "                          title='Confusion matrix',\n",
    "                          cmap=plt.cm.Blues):\n",
    "    \"\"\"\n",
    "    This function prints and plots the confusion matrix.\n",
    "    Normalization can be applied by setting `normalize=True`.\n",
    "    \"\"\"\n",
    "    plt.imshow(cm, interpolation='nearest', cmap=cmap)\n",
    "    plt.title(title)\n",
    "    plt.colorbar()\n",
    "    tick_marks = np.arange(len(classes))\n",
    "    plt.xticks(tick_marks, classes, rotation=45)\n",
    "    plt.yticks(tick_marks, classes)\n",
    "\n",
    "    if normalize:\n",
    "        cm = cm.astype('float') / cm.sum(axis=1)[:, np.newaxis]\n",
    "        print(\"Normalized confusion matrix\")\n",
    "    else:\n",
    "        print('Confusion matrix, without normalization')\n",
    "\n",
    "    print(cm)\n",
    "\n",
    "    thresh = cm.max() / 2.\n",
    "    for i, j in itertools.product(range(cm.shape[0]), range(cm.shape[1])):\n",
    "        plt.text(j, i, cm[i, j],\n",
    "                 horizontalalignment=\"center\",\n",
    "                 color=\"white\" if cm[i, j] > thresh else \"black\")\n",
    "\n",
    "    plt.tight_layout()\n",
    "    plt.ylabel('True label')\n",
    "    plt.xlabel('Predicted label')"
   ]
  },
  {
   "cell_type": "code",
   "execution_count": 9,
   "metadata": {},
   "outputs": [
    {
     "name": "stdout",
     "output_type": "stream",
     "text": [
      "Confusion matrix, without normalization\n",
      "[[843 158]\n",
      " [254 375]]\n"
     ]
    },
    {
     "data": {
      "image/png": "[encoded data removed]",
      "text/plain": [
       "<Figure size 432x288 with 2 Axes>"
      ]
     },
     "metadata": {
      "needs_background": "light"
     },
     "output_type": "display_data"
    }
   ],
   "source": [
    "# create the data from the cm then plot it \n",
    "\n",
    "cm = confusion_matrix(y_test, predict_test)\n",
    "\n",
    "plot_confusion_matrix(cm,[0,1],False)"
   ]
  },
  {
   "cell_type": "code",
   "execution_count": 10,
   "metadata": {},
   "outputs": [
    {
     "name": "stdout",
     "output_type": "stream",
     "text": [
      "Normalized confusion matrix\n",
      "[[0.84215784 0.15784216]\n",
      " [0.40381558 0.59618442]]\n"
     ]
    },
    {
     "data": {
      "image/png": "[encoded data removed]",
      "text/plain": [
       "<Figure size 432x288 with 2 Axes>"
      ]
     },
     "metadata": {
      "needs_background": "light"
     },
     "output_type": "display_data"
    }
   ],
   "source": [
    "# now call the normalized version of this \n",
    "plot_confusion_matrix(cm, [0,1], True)"
   ]
  },
  {
   "cell_type": "code",
   "execution_count": 11,
   "metadata": {},
   "outputs": [
    {
     "data": {
      "text/plain": [
       "0.747239263803681"
      ]
     },
     "execution_count": 11,
     "metadata": {},
     "output_type": "execute_result"
    }
   ],
   "source": [
    "# get the accuracy of the model \n",
    "clf.score(X_test, y_test)"
   ]
  },
  {
   "cell_type": "code",
   "execution_count": 52,
   "metadata": {},
   "outputs": [
    {
     "data": {
      "text/plain": [
       "0.7786666666666666"
      ]
     },
     "execution_count": 52,
     "metadata": {},
     "output_type": "execute_result"
    }
   ],
   "source": [
    "# get the precison \n",
    "y_pred = clf.predict(X_test)\n",
    "precision_score(y_test, y_pred)"
   ]
  },
  {
   "cell_type": "code",
   "execution_count": 53,
   "metadata": {},
   "outputs": [
    {
     "data": {
      "text/plain": [
       "0.4642289348171701"
      ]
     },
     "execution_count": 53,
     "metadata": {},
     "output_type": "execute_result"
    }
   ],
   "source": [
    "# get the recall of the model \n",
    "recall_score(y_test, y_pred)"
   ]
  },
  {
   "cell_type": "code",
   "execution_count": 24,
   "metadata": {},
   "outputs": [
    {
     "data": {
      "image/png": "[encoded data removed]",
      "text/plain": [
       "<Figure size 432x288 with 1 Axes>"
      ]
     },
     "metadata": {
      "needs_background": "light"
     },
     "output_type": "display_data"
    },
    {
     "data": {
      "text/plain": [
       "<Figure size 1440x1440 with 0 Axes>"
      ]
     },
     "metadata": {},
     "output_type": "display_data"
    }
   ],
   "source": [
    "# get the feature importance, show how important each one is \n",
    "\n",
    "feature_importance = clf.feature_importances_\n",
    "\n",
    "\n",
    "#scale the importance and plot it \n",
    "feature_importance = 100 * (feature_importance / feature_importance.max())\n",
    "sorted_idx = np.argsort(feature_importance)\n",
    "pos = np.arange(sorted_idx.shape[0]) + 0.5\n",
    "plt.subplot(1, 2, 2)\n",
    "plt.barh(pos, feature_importance[sorted_idx], align= 'center')\n",
    "plt.yticks(pos, X.columns[sorted_idx])\n",
    "plt.xlabel('relative importance')\n",
    "plt.title('variable importance')\n",
    "plt.figure(figsize=(20,20))\n",
    "plt.show()\n",
    "\n"
   ]
  },
  {
   "cell_type": "code",
   "execution_count": 26,
   "metadata": {},
   "outputs": [
    {
     "name": "stdout",
     "output_type": "stream",
     "text": [
      "<class 'pandas.core.frame.DataFrame'>\n",
      "Int64Index: 8147 entries, 0 to 8593\n",
      "Data columns (total 16 columns):\n",
      " #   Column   Non-Null Count  Dtype  \n",
      "---  ------   --------------  -----  \n",
      " 0   year     8147 non-null   int64  \n",
      " 1   tvtot    8147 non-null   float64\n",
      " 2   ppltrst  8147 non-null   float64\n",
      " 3   pplfair  8147 non-null   float64\n",
      " 4   pplhlp   8147 non-null   float64\n",
      " 5   happy    8147 non-null   float64\n",
      " 6   sclmeet  8147 non-null   float64\n",
      " 7   sclact   8147 non-null   float64\n",
      " 8   gndr     8147 non-null   float64\n",
      " 9   agea     8147 non-null   float64\n",
      " 10  CH       8147 non-null   uint8  \n",
      " 11  CZ       8147 non-null   uint8  \n",
      " 12  DE       8147 non-null   uint8  \n",
      " 13  ES       8147 non-null   uint8  \n",
      " 14  NO       8147 non-null   uint8  \n",
      " 15  SE       8147 non-null   uint8  \n",
      "dtypes: float64(9), int64(1), uint8(6)\n",
      "memory usage: 747.9 KB\n"
     ]
    }
   ],
   "source": [
    "# lets improve the performance of the model \n",
    "X.info()"
   ]
  },
  {
   "cell_type": "code",
   "execution_count": 32,
   "metadata": {},
   "outputs": [
    {
     "data": {
      "text/plain": [
       "year       False\n",
       "tvtot      False\n",
       "ppltrst    False\n",
       "pplfair    False\n",
       "pplhlp     False\n",
       "happy      False\n",
       "sclmeet    False\n",
       "sclact     False\n",
       "gndr       False\n",
       "agea       False\n",
       "CH         False\n",
       "CZ         False\n",
       "DE         False\n",
       "ES         False\n",
       "NO         False\n",
       "SE         False\n",
       "dtype: bool"
      ]
     },
     "execution_count": 32,
     "metadata": {},
     "output_type": "execute_result"
    }
   ],
   "source": [
    "# lets look for missing values \n",
    "X.isna().any()\n",
    "#none "
   ]
  },
  {
   "cell_type": "code",
   "execution_count": 42,
   "metadata": {},
   "outputs": [
    {
     "data": {
      "text/plain": [
       "GridSearchCV(cv=3,\n",
       "             estimator=GradientBoostingClassifier(max_depth=2,\n",
       "                                                  n_estimators=500),\n",
       "             param_grid=[{'learning_rate': [0.05, 0.1, 0.15, 0.2, 0.25, 0.3,\n",
       "                                            0.35, 0.45, 0.5, 0.55, 0.6],\n",
       "                          'loss': ['deviance', 'exponential'],\n",
       "                          'max_depth': [1, 2, 3, 4, 5],\n",
       "                          'min_samples_split': [2, 3, 4, 5, 6, 7, 8],\n",
       "                          'n_estimators': [1, 2, 3, 4, 5, 6, 7, 8]}],\n",
       "             return_train_score=True, scoring='neg_mean_squared_error')"
      ]
     },
     "execution_count": 42,
     "metadata": {},
     "output_type": "execute_result"
    }
   ],
   "source": [
    "# lets implement a grid search CV and see what accuracy we can get \n",
    "\n",
    "from sklearn.model_selection import GridSearchCV\n",
    "\n",
    "param_grid = [{'learning_rate':[0.05, 0.1, 0.15, 0.2, 0.25, 0.3, 0.35, 0.45, 0.50, 0.55, 0.60], \n",
    "               'max_depth' : [1, 2, 3, 4, 5], \n",
    "               'n_estimators': [1, 2, 3, 4, 5, 6, 7, 8],\n",
    "               'loss': ['deviance', 'exponential'],\n",
    "               'min_samples_split': [2, 3, 4, 5, 6, 7, 8]}]\n",
    "\n",
    "grid_search = GridSearchCV(clf, param_grid, cv=3, scoring='neg_mean_squared_error', return_train_score=True)\n",
    "\n",
    "grid_search.fit(X_train, y_train)"
   ]
  },
  {
   "cell_type": "code",
   "execution_count": 47,
   "metadata": {},
   "outputs": [
    {
     "data": {
      "text/plain": [
       "{'learning_rate': 0.5,\n",
       " 'loss': 'deviance',\n",
       " 'max_depth': 3,\n",
       " 'min_samples_split': 2,\n",
       " 'n_estimators': 6}"
      ]
     },
     "execution_count": 47,
     "metadata": {},
     "output_type": "execute_result"
    }
   ],
   "source": [
    "grid_search.best_params_ "
   ]
  },
  {
   "cell_type": "code",
   "execution_count": 50,
   "metadata": {},
   "outputs": [
    {
     "data": {
      "text/plain": [
       "GradientBoostingClassifier(learning_rate=0.5, n_estimators=6)"
      ]
     },
     "execution_count": 50,
     "metadata": {},
     "output_type": "execute_result"
    }
   ],
   "source": [
    "clf= ensemble.GradientBoostingClassifier(learning_rate = 0.5, loss = 'deviance', max_depth = 3, min_samples_split = 2, n_estimators = 6)\n",
    "\n",
    "clf.fit(X_train, y_train)"
   ]
  },
  {
   "cell_type": "code",
   "execution_count": 51,
   "metadata": {},
   "outputs": [
    {
     "data": {
      "text/plain": [
       "0.7581709375479515"
      ]
     },
     "execution_count": 51,
     "metadata": {},
     "output_type": "execute_result"
    }
   ],
   "source": [
    "clf.score(X_train, y_train)"
   ]
  },
  {
   "cell_type": "code",
   "execution_count": null,
   "metadata": {},
   "outputs": [],
   "source": [
    "# slightly more accuracy than before. We could remove some variables to increase accuracy further "
   ]
  }
 ],
 "metadata": {
  "kernelspec": {
   "display_name": "Python 3",
   "language": "python",
   "name": "python3"
  },
  "language_info": {
   "codemirror_mode": {
    "name": "ipython",
    "version": 3
   },
   "file_extension": ".py",
   "mimetype": "text/x-python",
   "name": "python",
   "nbconvert_exporter": "python",
   "pygments_lexer": "ipython3",
   "version": "3.8.5"
  }
 },
 "nbformat": 4,
 "nbformat_minor": 4
}
